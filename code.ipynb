{
 "cells": [
  {
   "cell_type": "code",
   "execution_count": 86,
   "id": "0b8024ca-de50-48a7-83ba-0df4d19842e5",
   "metadata": {},
   "outputs": [],
   "source": [
    "import numpy as np\n",
    "\n",
    "import pandas as pd\n",
    "\n",
    "from sklearn import svm\n",
    "from sklearn.preprocessing import StandardScaler\n",
    "\n",
    "import os\n",
    "\n",
    "import torch\n",
    "from torch import nn\n",
    "from torch.utils.data import Dataset\n",
    "from torch.utils.data import DataLoader"
   ]
  },
  {
   "cell_type": "markdown",
   "id": "336bfd7c-b9bb-4c83-a26b-393f8f183ae6",
   "metadata": {},
   "source": [
    "### 1. Data set"
   ]
  },
  {
   "cell_type": "code",
   "execution_count": 105,
   "id": "ce63ee2e",
   "metadata": {},
   "outputs": [],
   "source": [
    "from torch.utils.data import random_split\n",
    "\n",
    "NUM_PROLIFIC_AUTHORS = 100\n",
    "\n",
    "class CustomDataset(Dataset):\n",
    "    def __init__(self, file_name, data_dir, transform=None, target_transform=None):\n",
    "        self.data_dir = data_dir\n",
    "        \n",
    "        self.data = pd.read_json(os.path.join(data_dir, file_name))\n",
    "        self.data = self.data.applymap(lambda x: -1 if x == '' else x) # Change null data to -1\n",
    "        \n",
    "        self.x = self.data.drop(columns=['authors']).values\n",
    "        self.y = self.data.authors.values\n",
    "\n",
    "    def __len__(self):\n",
    "        return len(self.data)\n",
    "\n",
    "    def __getitem__(self, idx):\n",
    "        x_fixed = self.x[idx,[0, 2]].astype(np.int32)\n",
    "        x_abstract = self.x[idx,1]\n",
    "        x_title = self.x[idx,3]\n",
    "        y = np.array(self.y[idx])\n",
    "        y = self.authors_to_one_hot(y)\n",
    "\n",
    "        return x_fixed, y # x_abstract, x_title, y\n",
    "\n",
    "    def authors_to_one_hot(self, a):\n",
    "        one_hot = np.zeros(NUM_PROLIFIC_AUTHORS).astype(int)\n",
    "        a = np.array(a)\n",
    "        a = a[a < 100]\n",
    "        one_hot[a] = 1\n",
    "        return one_hot\n",
    "\n",
    "dataset = CustomDataset('train.json', './data/')\n",
    "train_set, val_set = random_split(dataset, [round(len(dataset)*0.7), round(len(dataset)*0.3)])\n",
    "train_dataloader = DataLoader(train_set, batch_size=128, shuffle=True)\n",
    "val_dataloader = DataLoader(val_set, batch_size=128, shuffle=True)\n",
    "\n",
    "# for _ in range(5):\n",
    "#     _, _, _, y = next(iter(train_dataloader))\n",
    "#     print(y)"
   ]
  },
  {
   "cell_type": "markdown",
   "id": "f16bcd0b-84f1-4844-90f6-bbe517305f23",
   "metadata": {},
   "source": [
    "### 2. Model"
   ]
  },
  {
   "cell_type": "markdown",
   "id": "161a8483",
   "metadata": {},
   "source": [
    "NN"
   ]
  },
  {
   "cell_type": "code",
   "execution_count": 90,
   "id": "f683457c",
   "metadata": {},
   "outputs": [],
   "source": [
    "import torch.nn.functional as F\n",
    "\n",
    "HIDDEN_DIM1 = 256\n",
    "HIDDEN_DIM2 = 100\n",
    "\n",
    "class MultilayerPerceptronModel(nn.Module):\n",
    "    def __init__(self, n_features, n_classes, hidden_dim1 = HIDDEN_DIM1, hidden_dim2 = HIDDEN_DIM2):\n",
    "        super().__init__()\n",
    "        \n",
    "        self.input_layer = nn.Linear(n_features, hidden_dim1)\n",
    "        self.hidden_layer = nn.Linear(hidden_dim1, hidden_dim2)\n",
    "        self.output_layer = nn.Linear(hidden_dim2, n_classes)\n",
    "        self.dropout = nn.Dropout(0.25)\n",
    "\n",
    "    def forward(self, x):\n",
    "        batch_size = x.shape[0]\n",
    "        \n",
    "        x = x.view(batch_size, -1)  # Flatten image into vector, retaining batch dimension\n",
    "        \n",
    "        x = F.relu(self.input_layer(x))\n",
    "        x = self.dropout(x)\n",
    "        \n",
    "        x = F.relu(self.hidden_layer(x))\n",
    "        x = self.dropout(x)\n",
    "        \n",
    "        out = F.sigmoid(self.output_layer(x))\n",
    "        \n",
    "        return out"
   ]
  },
  {
   "cell_type": "code",
   "execution_count": 103,
   "id": "7703ce63",
   "metadata": {},
   "outputs": [],
   "source": [
    "import time\n",
    "from tkinter import Y\n",
    "\n",
    "def test(model, criterion, test_loader):\n",
    "    test_loss = 0.\n",
    "    test_preds, test_labels = list(), list()\n",
    "    for i, data in enumerate(test_loader):\n",
    "        x_fixed, y = data\n",
    "        x_fixed = x_fixed.float()\n",
    "        y = y.float()\n",
    "\n",
    "        with torch.no_grad():\n",
    "            logits = model(x_fixed)\n",
    "            predictions = torch.round(logits)\n",
    "            test_loss += criterion(input=logits, target=y).item()\n",
    "            test_preds.append(predictions)\n",
    "            test_labels.append(y)\n",
    "\n",
    "    test_preds = torch.cat(test_preds)\n",
    "    test_labels = torch.cat(test_labels)\n",
    "\n",
    "    test_accuracy = torch.mean((torch.sum(torch.eq(predictions, y).float(), 1) == 100).float()).item()\n",
    "\n",
    "    print('[TEST] Mean loss {:.4f} | Accuracy {:.4f}'.format(test_loss/len(test_loader), test_accuracy))\n",
    "\n",
    "def train(model, train_loader, val_loader, optimizer, n_epochs=10):\n",
    "    \"\"\"\n",
    "    Generic training loop for supervised multiclass learning\n",
    "    \"\"\"\n",
    "    LOG_INTERVAL = 250\n",
    "    running_loss, running_accuracy = list(), list()\n",
    "    start_time = time.time()\n",
    "    criterion = torch.nn.BCELoss()\n",
    "\n",
    "    for epoch in range(n_epochs):  # Loop over training dataset `n_epochs` times\n",
    "\n",
    "        epoch_loss = 0.\n",
    "\n",
    "        for i, data in enumerate(train_loader):  # Loop over elements in training set\n",
    "\n",
    "            x_fixed, y = data\n",
    "            x_fixed = x_fixed.float()\n",
    "            y = y.float()\n",
    "            \n",
    "            logits = model(x_fixed)\n",
    "\n",
    "\n",
    "            predictions = torch.round(logits)\n",
    "            # print(f'{torch.mean((torch.sum(torch.eq(predictions, y).float(), 1) == 100).float())}\\n')\n",
    "            train_acc = torch.mean((torch.sum(torch.eq(predictions, y).float(), 1) == 100).float()).item()\n",
    "\n",
    "            # print(logits)\n",
    "            loss = criterion(input=logits, target=y)\n",
    "\n",
    "            loss.backward()               # Backward pass (compute parameter gradients)\n",
    "            optimizer.step()              # Update weight parameter using SGD\n",
    "            optimizer.zero_grad()         # Reset gradients to zero for next iteration\n",
    "\n",
    "\n",
    "            # ============================================================================\n",
    "            # You can safely ignore the boilerplate code below - just reports metrics over\n",
    "            # training and test sets\n",
    "\n",
    "            running_loss.append(loss.item())\n",
    "            running_accuracy.append(train_acc)\n",
    "\n",
    "            epoch_loss += loss.item()\n",
    "\n",
    "            if i % LOG_INTERVAL == 0:  # Log training stats\n",
    "                deltaT = time.time() - start_time\n",
    "                mean_loss = epoch_loss / (i+1)\n",
    "                print('[TRAIN] Epoch {} [{}/{}]| Mean loss {:.4f} | Current Mean train accuracy {:.5f} | Current data accuracy {:.5f} | Time {:.2f} s'.format(epoch, \n",
    "                    i, len(train_loader), mean_loss, sum(running_accuracy)/len(running_accuracy), train_acc, deltaT))\n",
    "\n",
    "        print('Epoch complete! Mean loss: {:.4f}'.format(epoch_loss/len(train_loader)))\n",
    "\n",
    "        test(model, criterion, val_loader)\n",
    "        \n",
    "    return running_loss, running_accuracy"
   ]
  },
  {
   "cell_type": "code",
   "execution_count": 106,
   "id": "b3f3f637",
   "metadata": {},
   "outputs": [
    {
     "ename": "RuntimeError",
     "evalue": "each element in list of batch should be of equal size",
     "output_type": "error",
     "traceback": [
      "\u001b[1;31m---------------------------------------------------------------------------\u001b[0m",
      "\u001b[1;31mRuntimeError\u001b[0m                              Traceback (most recent call last)",
      "\u001b[1;32mc:\\1-Google Drive\\1-Work\\Projects\\COMP90051\\Project2\\code.ipynb Cell 10\u001b[0m in \u001b[0;36m<cell line: 6>\u001b[1;34m()\u001b[0m\n\u001b[0;32m      <a href='vscode-notebook-cell:/c%3A/1-Google%20Drive/1-Work/Projects/COMP90051/Project2/code.ipynb#X24sZmlsZQ%3D%3D?line=3'>4</a>\u001b[0m optimizer \u001b[39m=\u001b[39m torch\u001b[39m.\u001b[39moptim\u001b[39m.\u001b[39mSGD(mlp_model\u001b[39m.\u001b[39mparameters(), lr\u001b[39m=\u001b[39m\u001b[39m1e-2\u001b[39m, momentum\u001b[39m=\u001b[39m\u001b[39m0.9\u001b[39m)\n\u001b[0;32m      <a href='vscode-notebook-cell:/c%3A/1-Google%20Drive/1-Work/Projects/COMP90051/Project2/code.ipynb#X24sZmlsZQ%3D%3D?line=4'>5</a>\u001b[0m \u001b[39m# optimizer = torch.optim.Adam(mlp_model.parameters(), lr=1e-2)\u001b[39;00m\n\u001b[1;32m----> <a href='vscode-notebook-cell:/c%3A/1-Google%20Drive/1-Work/Projects/COMP90051/Project2/code.ipynb#X24sZmlsZQ%3D%3D?line=5'>6</a>\u001b[0m mlp_loss, mlp_acc \u001b[39m=\u001b[39m train(mlp_model, train_dataloader, val_dataloader, optimizer)\n",
      "\u001b[1;32mc:\\1-Google Drive\\1-Work\\Projects\\COMP90051\\Project2\\code.ipynb Cell 10\u001b[0m in \u001b[0;36mtrain\u001b[1;34m(model, train_loader, val_loader, optimizer, n_epochs)\u001b[0m\n\u001b[0;32m     <a href='vscode-notebook-cell:/c%3A/1-Google%20Drive/1-Work/Projects/COMP90051/Project2/code.ipynb#X24sZmlsZQ%3D%3D?line=35'>36</a>\u001b[0m \u001b[39mfor\u001b[39;00m epoch \u001b[39min\u001b[39;00m \u001b[39mrange\u001b[39m(n_epochs):  \u001b[39m# Loop over training dataset `n_epochs` times\u001b[39;00m\n\u001b[0;32m     <a href='vscode-notebook-cell:/c%3A/1-Google%20Drive/1-Work/Projects/COMP90051/Project2/code.ipynb#X24sZmlsZQ%3D%3D?line=37'>38</a>\u001b[0m     epoch_loss \u001b[39m=\u001b[39m \u001b[39m0.\u001b[39m\n\u001b[1;32m---> <a href='vscode-notebook-cell:/c%3A/1-Google%20Drive/1-Work/Projects/COMP90051/Project2/code.ipynb#X24sZmlsZQ%3D%3D?line=39'>40</a>\u001b[0m     \u001b[39mfor\u001b[39;00m i, data \u001b[39min\u001b[39;00m \u001b[39menumerate\u001b[39m(train_loader):  \u001b[39m# Loop over elements in training set\u001b[39;00m\n\u001b[0;32m     <a href='vscode-notebook-cell:/c%3A/1-Google%20Drive/1-Work/Projects/COMP90051/Project2/code.ipynb#X24sZmlsZQ%3D%3D?line=41'>42</a>\u001b[0m         x_fixed, x_abstract, x_title, y \u001b[39m=\u001b[39m data\n\u001b[0;32m     <a href='vscode-notebook-cell:/c%3A/1-Google%20Drive/1-Work/Projects/COMP90051/Project2/code.ipynb#X24sZmlsZQ%3D%3D?line=42'>43</a>\u001b[0m         x_fixed \u001b[39m=\u001b[39m x_fixed\u001b[39m.\u001b[39mfloat()\n",
      "File \u001b[1;32mc:\\1-Environment\\miniconda\\envs\\COMP90051\\lib\\site-packages\\torch\\utils\\data\\dataloader.py:521\u001b[0m, in \u001b[0;36m_BaseDataLoaderIter.__next__\u001b[1;34m(self)\u001b[0m\n\u001b[0;32m    519\u001b[0m \u001b[39mif\u001b[39;00m \u001b[39mself\u001b[39m\u001b[39m.\u001b[39m_sampler_iter \u001b[39mis\u001b[39;00m \u001b[39mNone\u001b[39;00m:\n\u001b[0;32m    520\u001b[0m     \u001b[39mself\u001b[39m\u001b[39m.\u001b[39m_reset()\n\u001b[1;32m--> 521\u001b[0m data \u001b[39m=\u001b[39m \u001b[39mself\u001b[39;49m\u001b[39m.\u001b[39;49m_next_data()\n\u001b[0;32m    522\u001b[0m \u001b[39mself\u001b[39m\u001b[39m.\u001b[39m_num_yielded \u001b[39m+\u001b[39m\u001b[39m=\u001b[39m \u001b[39m1\u001b[39m\n\u001b[0;32m    523\u001b[0m \u001b[39mif\u001b[39;00m \u001b[39mself\u001b[39m\u001b[39m.\u001b[39m_dataset_kind \u001b[39m==\u001b[39m _DatasetKind\u001b[39m.\u001b[39mIterable \u001b[39mand\u001b[39;00m \\\n\u001b[0;32m    524\u001b[0m         \u001b[39mself\u001b[39m\u001b[39m.\u001b[39m_IterableDataset_len_called \u001b[39mis\u001b[39;00m \u001b[39mnot\u001b[39;00m \u001b[39mNone\u001b[39;00m \u001b[39mand\u001b[39;00m \\\n\u001b[0;32m    525\u001b[0m         \u001b[39mself\u001b[39m\u001b[39m.\u001b[39m_num_yielded \u001b[39m>\u001b[39m \u001b[39mself\u001b[39m\u001b[39m.\u001b[39m_IterableDataset_len_called:\n",
      "File \u001b[1;32mc:\\1-Environment\\miniconda\\envs\\COMP90051\\lib\\site-packages\\torch\\utils\\data\\dataloader.py:561\u001b[0m, in \u001b[0;36m_SingleProcessDataLoaderIter._next_data\u001b[1;34m(self)\u001b[0m\n\u001b[0;32m    559\u001b[0m \u001b[39mdef\u001b[39;00m \u001b[39m_next_data\u001b[39m(\u001b[39mself\u001b[39m):\n\u001b[0;32m    560\u001b[0m     index \u001b[39m=\u001b[39m \u001b[39mself\u001b[39m\u001b[39m.\u001b[39m_next_index()  \u001b[39m# may raise StopIteration\u001b[39;00m\n\u001b[1;32m--> 561\u001b[0m     data \u001b[39m=\u001b[39m \u001b[39mself\u001b[39;49m\u001b[39m.\u001b[39;49m_dataset_fetcher\u001b[39m.\u001b[39;49mfetch(index)  \u001b[39m# may raise StopIteration\u001b[39;00m\n\u001b[0;32m    562\u001b[0m     \u001b[39mif\u001b[39;00m \u001b[39mself\u001b[39m\u001b[39m.\u001b[39m_pin_memory:\n\u001b[0;32m    563\u001b[0m         data \u001b[39m=\u001b[39m _utils\u001b[39m.\u001b[39mpin_memory\u001b[39m.\u001b[39mpin_memory(data)\n",
      "File \u001b[1;32mc:\\1-Environment\\miniconda\\envs\\COMP90051\\lib\\site-packages\\torch\\utils\\data\\_utils\\fetch.py:52\u001b[0m, in \u001b[0;36m_MapDatasetFetcher.fetch\u001b[1;34m(self, possibly_batched_index)\u001b[0m\n\u001b[0;32m     50\u001b[0m \u001b[39melse\u001b[39;00m:\n\u001b[0;32m     51\u001b[0m     data \u001b[39m=\u001b[39m \u001b[39mself\u001b[39m\u001b[39m.\u001b[39mdataset[possibly_batched_index]\n\u001b[1;32m---> 52\u001b[0m \u001b[39mreturn\u001b[39;00m \u001b[39mself\u001b[39;49m\u001b[39m.\u001b[39;49mcollate_fn(data)\n",
      "File \u001b[1;32mc:\\1-Environment\\miniconda\\envs\\COMP90051\\lib\\site-packages\\torch\\utils\\data\\_utils\\collate.py:84\u001b[0m, in \u001b[0;36mdefault_collate\u001b[1;34m(batch)\u001b[0m\n\u001b[0;32m     82\u001b[0m         \u001b[39mraise\u001b[39;00m \u001b[39mRuntimeError\u001b[39;00m(\u001b[39m'\u001b[39m\u001b[39meach element in list of batch should be of equal size\u001b[39m\u001b[39m'\u001b[39m)\n\u001b[0;32m     83\u001b[0m     transposed \u001b[39m=\u001b[39m \u001b[39mzip\u001b[39m(\u001b[39m*\u001b[39mbatch)\n\u001b[1;32m---> 84\u001b[0m     \u001b[39mreturn\u001b[39;00m [default_collate(samples) \u001b[39mfor\u001b[39;00m samples \u001b[39min\u001b[39;00m transposed]\n\u001b[0;32m     86\u001b[0m \u001b[39mraise\u001b[39;00m \u001b[39mTypeError\u001b[39;00m(default_collate_err_msg_format\u001b[39m.\u001b[39mformat(elem_type))\n",
      "File \u001b[1;32mc:\\1-Environment\\miniconda\\envs\\COMP90051\\lib\\site-packages\\torch\\utils\\data\\_utils\\collate.py:84\u001b[0m, in \u001b[0;36m<listcomp>\u001b[1;34m(.0)\u001b[0m\n\u001b[0;32m     82\u001b[0m         \u001b[39mraise\u001b[39;00m \u001b[39mRuntimeError\u001b[39;00m(\u001b[39m'\u001b[39m\u001b[39meach element in list of batch should be of equal size\u001b[39m\u001b[39m'\u001b[39m)\n\u001b[0;32m     83\u001b[0m     transposed \u001b[39m=\u001b[39m \u001b[39mzip\u001b[39m(\u001b[39m*\u001b[39mbatch)\n\u001b[1;32m---> 84\u001b[0m     \u001b[39mreturn\u001b[39;00m [default_collate(samples) \u001b[39mfor\u001b[39;00m samples \u001b[39min\u001b[39;00m transposed]\n\u001b[0;32m     86\u001b[0m \u001b[39mraise\u001b[39;00m \u001b[39mTypeError\u001b[39;00m(default_collate_err_msg_format\u001b[39m.\u001b[39mformat(elem_type))\n",
      "File \u001b[1;32mc:\\1-Environment\\miniconda\\envs\\COMP90051\\lib\\site-packages\\torch\\utils\\data\\_utils\\collate.py:84\u001b[0m, in \u001b[0;36mdefault_collate\u001b[1;34m(batch)\u001b[0m\n\u001b[0;32m     82\u001b[0m         \u001b[39mraise\u001b[39;00m \u001b[39mRuntimeError\u001b[39;00m(\u001b[39m'\u001b[39m\u001b[39meach element in list of batch should be of equal size\u001b[39m\u001b[39m'\u001b[39m)\n\u001b[0;32m     83\u001b[0m     transposed \u001b[39m=\u001b[39m \u001b[39mzip\u001b[39m(\u001b[39m*\u001b[39mbatch)\n\u001b[1;32m---> 84\u001b[0m     \u001b[39mreturn\u001b[39;00m [default_collate(samples) \u001b[39mfor\u001b[39;00m samples \u001b[39min\u001b[39;00m transposed]\n\u001b[0;32m     86\u001b[0m \u001b[39mraise\u001b[39;00m \u001b[39mTypeError\u001b[39;00m(default_collate_err_msg_format\u001b[39m.\u001b[39mformat(elem_type))\n",
      "File \u001b[1;32mc:\\1-Environment\\miniconda\\envs\\COMP90051\\lib\\site-packages\\torch\\utils\\data\\_utils\\collate.py:84\u001b[0m, in \u001b[0;36m<listcomp>\u001b[1;34m(.0)\u001b[0m\n\u001b[0;32m     82\u001b[0m         \u001b[39mraise\u001b[39;00m \u001b[39mRuntimeError\u001b[39;00m(\u001b[39m'\u001b[39m\u001b[39meach element in list of batch should be of equal size\u001b[39m\u001b[39m'\u001b[39m)\n\u001b[0;32m     83\u001b[0m     transposed \u001b[39m=\u001b[39m \u001b[39mzip\u001b[39m(\u001b[39m*\u001b[39mbatch)\n\u001b[1;32m---> 84\u001b[0m     \u001b[39mreturn\u001b[39;00m [default_collate(samples) \u001b[39mfor\u001b[39;00m samples \u001b[39min\u001b[39;00m transposed]\n\u001b[0;32m     86\u001b[0m \u001b[39mraise\u001b[39;00m \u001b[39mTypeError\u001b[39;00m(default_collate_err_msg_format\u001b[39m.\u001b[39mformat(elem_type))\n",
      "File \u001b[1;32mc:\\1-Environment\\miniconda\\envs\\COMP90051\\lib\\site-packages\\torch\\utils\\data\\_utils\\collate.py:82\u001b[0m, in \u001b[0;36mdefault_collate\u001b[1;34m(batch)\u001b[0m\n\u001b[0;32m     80\u001b[0m elem_size \u001b[39m=\u001b[39m \u001b[39mlen\u001b[39m(\u001b[39mnext\u001b[39m(it))\n\u001b[0;32m     81\u001b[0m \u001b[39mif\u001b[39;00m \u001b[39mnot\u001b[39;00m \u001b[39mall\u001b[39m(\u001b[39mlen\u001b[39m(elem) \u001b[39m==\u001b[39m elem_size \u001b[39mfor\u001b[39;00m elem \u001b[39min\u001b[39;00m it):\n\u001b[1;32m---> 82\u001b[0m     \u001b[39mraise\u001b[39;00m \u001b[39mRuntimeError\u001b[39;00m(\u001b[39m'\u001b[39m\u001b[39meach element in list of batch should be of equal size\u001b[39m\u001b[39m'\u001b[39m)\n\u001b[0;32m     83\u001b[0m transposed \u001b[39m=\u001b[39m \u001b[39mzip\u001b[39m(\u001b[39m*\u001b[39mbatch)\n\u001b[0;32m     84\u001b[0m \u001b[39mreturn\u001b[39;00m [default_collate(samples) \u001b[39mfor\u001b[39;00m samples \u001b[39min\u001b[39;00m transposed]\n",
      "\u001b[1;31mRuntimeError\u001b[0m: each element in list of batch should be of equal size"
     ]
    }
   ],
   "source": [
    "NUM_FEATURES_FIXED = 2\n",
    "\n",
    "mlp_model = MultilayerPerceptronModel(NUM_FEATURES_FIXED, NUM_PROLIFIC_AUTHORS)\n",
    "optimizer = torch.optim.SGD(mlp_model.parameters(), lr=1e-2, momentum=0.9)\n",
    "# optimizer = torch.optim.Adam(mlp_model.parameters(), lr=1e-2)\n",
    "mlp_loss, mlp_acc = train(mlp_model, train_dataloader, val_dataloader, optimizer)"
   ]
  },
  {
   "cell_type": "code",
   "execution_count": 100,
   "id": "dffcb323",
   "metadata": {},
   "outputs": [
    {
     "data": {
      "text/plain": [
       "Text(0, 0.5, 'Cross-entropy Loss (Train)')"
      ]
     },
     "execution_count": 100,
     "metadata": {},
     "output_type": "execute_result"
    },
    {
     "data": {
      "image/png": "[encoded data removed]",
      "text/plain": [
       "<Figure size 432x288 with 1 Axes>"
      ]
     },
     "metadata": {
      "needs_background": "light"
     },
     "output_type": "display_data"
    }
   ],
   "source": [
    "from scipy.signal import savgol_filter  # Smooth spiky curves\n",
    "import matplotlib.pyplot as plt\n",
    "running_loss_smoothed = savgol_filter(mlp_loss, 21, 3)\n",
    "running_acc_smoothed = savgol_filter(mlp_acc, 21, 3)\n",
    "\n",
    "plt.plot(running_loss_smoothed)\n",
    "plt.xlabel('Iterations')\n",
    "plt.ylabel('Cross-entropy Loss (Train)')"
   ]
  },
  {
   "cell_type": "code",
   "execution_count": 101,
   "id": "72119af8",
   "metadata": {},
   "outputs": [
    {
     "data": {
      "text/plain": [
       "(0.2, 1.0)"
      ]
     },
     "execution_count": 101,
     "metadata": {},
     "output_type": "execute_result"
    },
    {
     "data": {
      "image/png": "[encoded data removed]",
      "text/plain": [
       "<Figure size 432x288 with 1 Axes>"
      ]
     },
     "metadata": {
      "needs_background": "light"
     },
     "output_type": "display_data"
    }
   ],
   "source": [
    "plt.plot(running_acc_smoothed)\n",
    "plt.xlabel('Iterations')\n",
    "plt.ylabel('Accuracy (Train)')\n",
    "plt.ylim(0.2,1.)"
   ]
  },
  {
   "cell_type": "markdown",
   "id": "feb92d44",
   "metadata": {},
   "source": [
    "RNN"
   ]
  },
  {
   "cell_type": "code",
   "execution_count": 2,
   "id": "23f8a64f",
   "metadata": {},
   "outputs": [],
   "source": [
    "import torch.nn as nn\n",
    "import torch.optim as optim"
   ]
  },
  {
   "cell_type": "code",
   "execution_count": null,
   "id": "1405f607",
   "metadata": {},
   "outputs": [],
   "source": [
    "class RNNClassifier(nn.Module):\n",
    "    def __init__(self, input_size, hidden_size, output_size):\n",
    "        super(RNNClassifier, self).__init__()\n",
    "        self.hidden_size = hidden_size\n",
    "        self.i2h = nn.Linear(input_size + hidden_size, hidden_size)\n",
    "        self.h2o = nn.Linear(hidden_size, output_size) \n",
    "        self.activation = nn.Tanh() \n",
    "        self.softmax = nn.LogSoftmax(dim=1)\n",
    "    def forward(self, input, hidden):\n",
    "        combined = torch.cat((input, hidden), 1)\n",
    "        hidden = self.activation(self.i2h(combined)) \n",
    "        output = self.h2o(hidden) \n",
    "        output = self.softmax(output)\n",
    "        return output, hidden\n",
    "    def initHidden(self):\n",
    "        return torch.zeros(1, self.hidden_size)"
   ]
  },
  {
   "cell_type": "code",
   "execution_count": null,
   "id": "08285c4a",
   "metadata": {},
   "outputs": [],
   "source": [
    "def categoryFromOutput(output):\n",
    "    top_n, top_i = output.topk(1)\n",
    "    category_i = top_i[0].item()\n",
    "    return all_categories[category_i], category_i\n",
    "\n",
    "def randomChoice(l):\n",
    "    return l[random.randint(0, len(l) - 1)]\n",
    "\n",
    "def randomTrainingExample(noise=0, noise_chars=\".,;'\"):\n",
    "    # noise: integer denoting the maximum number of distractor characters to add\n",
    "    # noise_chars: inventory of distractor characters\n",
    "    category = randomChoice(all_categories)\n",
    "    line = randomChoice(category_lines[category])\n",
    "    # added code to insert distracting nonsense into the string\n",
    "    if noise > 0:\n",
    "        line_prime = line\n",
    "        for i in range(random.randint(0, noise+1)):\n",
    "            line_prime += random.choice(noise_chars)\n",
    "        line = line_prime\n",
    "    # end change\n",
    "    category_tensor = torch.tensor([all_categories.index(category)], dtype=torch.long)\n",
    "    line_tensor = lineToTensor(line)\n",
    "    return category, line, category_tensor, line_tensor"
   ]
  },
  {
   "cell_type": "code",
   "execution_count": null,
   "id": "6758a0de",
   "metadata": {},
   "outputs": [],
   "source": [
    "\n",
    "\n",
    "n_iters = 80000\n",
    "print_every = 5000\n",
    "plot_every = 1000\n",
    "noise_level = 0 # change this line (as discussed later)\n",
    "n_hidden = 32\n",
    "learning_rate = 0.005\n",
    "\n",
    "current_loss = 0\n",
    "all_losses = []\n",
    "\n",
    "rnn = RNNClassifier(n_letters, n_hidden, n_categories)\n",
    "criterion = nn.NLLLoss()\n",
    "\n",
    "def timeSince(since):\n",
    "    now = time.time()\n",
    "    s = now - since\n",
    "    m = math.floor(s / 60)\n",
    "    s -= m * 60\n",
    "    return '%dm %ds' % (m, s)\n",
    "start = time.time()\n",
    "\n",
    "# training algorithm, which takes one instance and performs single SGD update\n",
    "def train(category_tensor, line_tensor):\n",
    "    hidden = rnn.initHidden()\n",
    "    rnn.zero_grad()\n",
    "    # key step: unroll the RNN over each symbol in the input sequence\n",
    "    for i in range(line_tensor.size()[0]):\n",
    "        output, hidden = rnn(line_tensor[i], hidden)\n",
    "    # treat the last output as the prediction of the category label\n",
    "    loss = criterion(output, category_tensor)\n",
    "    loss.backward()\n",
    "\n",
    "    # Add parameters' gradients to their values, multiplied by learning rate\n",
    "    for p in rnn.parameters():\n",
    "        p.data.add_(p.grad.data, alpha=-learning_rate)\n",
    "    return output, loss.item()\n",
    "\n",
    "for iter in range(1, n_iters + 1):\n",
    "    category, line, category_tensor, line_tensor = randomTrainingExample(noise=noise_level)\n",
    "    output, loss = train(category_tensor, line_tensor)\n",
    "    current_loss += loss\n",
    "\n",
    "    # Print iter number, loss, name and guess\n",
    "    if iter % print_every == 0:\n",
    "        guess, guess_i = categoryFromOutput(output)\n",
    "        correct = '✓' if guess == category else '✗ (%s)' % category\n",
    "        print('%d %d%% (%s) %.4f %s / %s %s' % (iter, iter / n_iters * 100, timeSince(start), loss, line, guess, correct))\n",
    "\n",
    "    # Add current loss avg to list of losses\n",
    "    if iter % plot_every == 0:\n",
    "        all_losses.append(current_loss / plot_every)\n",
    "        current_loss = 0"
   ]
  },
  {
   "cell_type": "code",
   "execution_count": null,
   "id": "42abed0c",
   "metadata": {},
   "outputs": [],
   "source": [
    "class AttentionalGRUClassifier(nn.Module):\n",
    "    def __init__(self, input_size, hidden_size, output_size):\n",
    "        super(AttentionalGRUClassifier, self).__init__()\n",
    "        self.gru = nn.GRU(input_size, hidden_size)\n",
    "        self.h2o = nn.Linear(hidden_size, output_size) \n",
    "        self.att = nn.Linear(hidden_size, 1) \n",
    "        \n",
    "    def forward(self, input_sequence):\n",
    "        # process the input sequence into a sequence of RNN hidden states\n",
    "        states, _ = self.gru(input_sequence)\n",
    "        # compute attention scores to each RNN hidden state (we use a linear function)\n",
    "        att_scores = self.att(states)\n",
    "        # rescale the attention scores using a softmax, so they sum to one\n",
    "        alpha = F.softmax(att_scores, dim=0)\n",
    "        # compute the \"c\" vector as a weighted combination of the RNN hidden states\n",
    "        c = torch.sum(torch.mul(states, alpha), dim=0)\n",
    "        # now couple up the c state to the output, and compute log-softmax\n",
    "        output = self.h2o(c.view(1, -1)) \n",
    "        output = F.log_softmax(output, dim=1)\n",
    "        return output, alpha"
   ]
  },
  {
   "cell_type": "code",
   "execution_count": null,
   "id": "9c2d9441",
   "metadata": {},
   "outputs": [],
   "source": [
    "\n",
    "\n",
    "model = AttentionalGRUClassifier(n_letters, n_hidden, n_categories)\n",
    "optimizer = optim.SGD(model.parameters(), lr=learning_rate)\n",
    "criterion = nn.NLLLoss()\n",
    "\n",
    "start = time.time()\n",
    "all_losses_att = []\n",
    "current_loss = 0\n",
    "\n",
    "for iter in range(1, n_iters + 1):\n",
    "    category, line, category_tensor, line_tensor = randomTrainingExample(noise=noise_level)\n",
    "\n",
    "    model.zero_grad()\n",
    "    output, _ = model.forward(line_tensor)\n",
    "    output = torch.squeeze(output, 1) # remove redundant dimension\n",
    "    loss = criterion(output, category_tensor)\n",
    "    current_loss += loss.item()\n",
    "    loss.backward()\n",
    "    optimizer.step()\n",
    "\n",
    "    # Print iter number, loss, name and guess\n",
    "    if iter % print_every == 0:\n",
    "        guess, guess_i = categoryFromOutput(output)\n",
    "        correct = '✓' if guess == category else '✗ (%s)' % category\n",
    "        print('%d %d%% (%s) %.4f %s / %s %s' % (iter, iter / n_iters * 100, timeSince(start), loss, line, guess, correct))\n",
    "\n",
    "    # Add current loss avg to list of losses\n",
    "    if iter % plot_every == 0:\n",
    "        all_losses_att.append(current_loss / plot_every)\n",
    "        current_loss = 0"
   ]
  }
 ],
 "metadata": {
  "kernelspec": {
   "display_name": "Python 3.8.13 ('COMP90051')",
   "language": "python",
   "name": "python3"
  },
  "language_info": {
   "codemirror_mode": {
    "name": "ipython",
    "version": 3
   },
   "file_extension": ".py",
   "mimetype": "text/x-python",
   "name": "python",
   "nbconvert_exporter": "python",
   "pygments_lexer": "ipython3",
   "version": "3.8.13"
  },
  "vscode": {
   "interpreter": {
    "hash": "168cf1919776406216c8a7534c836854148f23669d6a513e43ffaae940618bba"
   }
  }
 },
 "nbformat": 4,
 "nbformat_minor": 5
}
