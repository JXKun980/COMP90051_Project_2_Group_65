{
 "cells": [
  {
   "cell_type": "code",
   "execution_count": 97,
   "id": "0b8024ca-de50-48a7-83ba-0df4d19842e5",
   "metadata": {},
   "outputs": [],
   "source": [
    "import numpy as np\n",
    "\n",
    "import pandas as pd\n",
    "\n",
    "from sklearn import svm\n",
    "from sklearn.preprocessing import StandardScaler\n",
    "\n",
    "import os\n",
    "\n",
    "import torch\n",
    "from torch import nn\n",
    "from torch.utils.data import Dataset\n",
    "from torch.utils.data import DataLoader\n",
    "\n",
    "DEVICE = torch.device('cuda')"
   ]
  },
  {
   "cell_type": "markdown",
   "id": "336bfd7c-b9bb-4c83-a26b-393f8f183ae6",
   "metadata": {},
   "source": [
    "# 1. Data set"
   ]
  },
  {
   "cell_type": "code",
   "execution_count": 98,
   "id": "ce63ee2e",
   "metadata": {},
   "outputs": [],
   "source": [
    "from os import device_encoding\n",
    "from pyexpat.errors import XML_ERROR_FEATURE_REQUIRES_XML_DTD\n",
    "from torch.utils.data import random_split\n",
    "from torch.nn.utils.rnn import pad_sequence, pack_padded_sequence, pad_packed_sequence\n",
    "\n",
    "NUM_PROLIFIC_AUTHORS = 100\n",
    "NUM_WORDS = 5001 # 5000 valid word indices, plus one for place holder in padding\n",
    "NUM_VENUES = 466 # 465 valid venues + 1 reserved for null venues\n",
    "\n",
    "class CustomDataset(Dataset):\n",
    "    def __init__(self, file_name, data_dir, transform=None, target_transform=None):\n",
    "        # Get data\n",
    "        self.data_dir = data_dir\n",
    "        self.data = pd.read_json(os.path.join(data_dir, file_name))\n",
    "\n",
    "        # Clean data\n",
    "        self.data.venue = self.data.venue.map(lambda x: 465 if x == '' else x) # Change \"\" data to 465, a new cateogry\n",
    "\n",
    "        # Convert year and venue to numpy array\n",
    "        self.x_year = self.data.year.to_numpy()[:,np.newaxis]\n",
    "        self.x_venue = self.data.venue.to_numpy()[:,np.newaxis]\n",
    "\n",
    "        # Convert abstracts and titles to lists of arrays of words (in numbers)\n",
    "        abstracts_list = self.data.abstract.to_list()\n",
    "        self.x_abstract = [np.array(x).astype(np.int32) for x in abstracts_list]\n",
    "        titles_list = self.data.title.to_list()\n",
    "        self.x_title = [np.array(x).astype(np.int32) for x in titles_list]\n",
    "\n",
    "        # Convert y to numpy array\n",
    "        self.y = self.data.authors.values\n",
    "\n",
    "    def __len__(self):\n",
    "        return len(self.data)\n",
    "\n",
    "    def __getitem__(self, idx):\n",
    "        x_year = self.x_year[idx]\n",
    "        x_venue = self.x_venue[idx]\n",
    "        x_abstract = self.x_abstract[idx]\n",
    "        x_title = self.x_title[idx]\n",
    "        y = self.authors_to_one_hot(self.y[idx])\n",
    "        return x_year, x_venue, x_abstract, x_title, y\n",
    "\n",
    "    def authors_to_one_hot(self, authors):\n",
    "        one_hot = np.zeros(NUM_PROLIFIC_AUTHORS).astype(int)\n",
    "        a_array = np.array(authors)\n",
    "        prolific_a_array = a_array[a_array < 100]\n",
    "        one_hot[prolific_a_array] = 1\n",
    "        return one_hot\n",
    "\n",
    "def pad_collate(batch):\n",
    "    '''\n",
    "    Custom collate function to combine a batch of samples\n",
    "    '''\n",
    "    (x_year, x_venue, x_abstract, x_title, y) = zip(*batch)\n",
    "    \n",
    "    # Convert x (year and venue) and y to tensors and pack them\n",
    "    x_year_tensor = torch.tensor(x_year, device=DEVICE)\n",
    "    x_venue_tensor = torch.tensor(x_venue, device=DEVICE)\n",
    "    y_tensor = torch.tensor(y, device=DEVICE)\n",
    "\n",
    "    # Convert texts to tensors\n",
    "    x_abstract_tensor = [torch.tensor(x, device=DEVICE) for x in x_abstract]\n",
    "    x_title_tensor = [torch.tensor(x, device=DEVICE) for x in x_title]\n",
    "\n",
    "    return x_year_tensor, x_venue_tensor, x_abstract_tensor, x_title_tensor, y_tensor\n",
    "\n",
    "# Obtain custom dataset and split\n",
    "dataset = CustomDataset('train.json', './data/')\n",
    "train_set, val_set = random_split(dataset, [round(len(dataset)*0.7), round(len(dataset)*0.3)])\n",
    "\n",
    "# Convert split dataset to dataloaders\n",
    "train_dataloader = DataLoader(train_set, batch_size=64, shuffle=True, collate_fn=pad_collate)\n",
    "val_dataloader = DataLoader(val_set, batch_size=64, shuffle=True, collate_fn=pad_collate)\n"
   ]
  },
  {
   "cell_type": "markdown",
   "id": "f16bcd0b-84f1-4844-90f6-bbe517305f23",
   "metadata": {},
   "source": [
    "# 2. Model"
   ]
  },
  {
   "cell_type": "markdown",
   "id": "161a8483",
   "metadata": {},
   "source": [
    "## 2.1 NN"
   ]
  },
  {
   "cell_type": "code",
   "execution_count": 99,
   "id": "f683457c",
   "metadata": {},
   "outputs": [],
   "source": [
    "import torch.nn.functional as F\n",
    "\n",
    "'''\n",
    "Define the NN model tailored for the task\n",
    "'''\n",
    "class MLP(nn.Module):\n",
    "    def __init__(self, embed_input_size, other_input_size, embed_vocab, embed_size, \n",
    "        hidden_size1, hidden_size2, out_size):\n",
    "        super().__init__()\n",
    "\n",
    "        # Embedding layer is used to convert data into one-hot encoding and then pass\n",
    "        # through a linear layer\n",
    "        self.embedding_layer = nn.Embedding(embed_vocab, embed_size)\n",
    "\n",
    "        self.input_layer = nn.Linear(embed_size*embed_input_size + other_input_size, \n",
    "            hidden_size1)\n",
    "        self.hidden_layer = nn.Linear(hidden_size1, hidden_size2)\n",
    "        self.output_layer = nn.Linear(hidden_size2, out_size)\n",
    "        self.dropout = nn.Dropout(0.25)\n",
    "\n",
    "    def forward(self, x):\n",
    "        x_no_embed = x[0]\n",
    "        x_embed = x[1]\n",
    "        \n",
    "        batch_size = x_embed.shape[0]\n",
    "        embed_out = self.embedding_layer(x_embed)\n",
    "        # Flatten the new dimension added by embedding\n",
    "        embed_out = torch.flatten(embed_out, start_dim=1) \n",
    "\n",
    "        x = torch.cat((embed_out, x_no_embed), 1)\n",
    "        \n",
    "        x = F.relu(self.input_layer(x))\n",
    "        x = self.dropout(x)\n",
    "        \n",
    "        x = F.relu(self.hidden_layer(x))\n",
    "        x = self.dropout(x)\n",
    "        \n",
    "        out = self.output_layer(x)\n",
    "        \n",
    "        return out"
   ]
  },
  {
   "cell_type": "markdown",
   "id": "feb92d44",
   "metadata": {},
   "source": [
    "## 2.2 RNN"
   ]
  },
  {
   "cell_type": "code",
   "execution_count": 100,
   "id": "23f8a64f",
   "metadata": {},
   "outputs": [],
   "source": [
    "import torch.nn as nn\n",
    "import torch.optim as optim"
   ]
  },
  {
   "cell_type": "markdown",
   "id": "66f67436",
   "metadata": {},
   "source": [
    "### 2.2.1 MLP with RNN"
   ]
  },
  {
   "cell_type": "code",
   "execution_count": 101,
   "id": "908463ae",
   "metadata": {},
   "outputs": [],
   "source": [
    "\n",
    "class RNN_MLP(nn.Module):\n",
    "    def __init__(self, rnn_embed_vocab, rnn_embed_size, rnn_hidden_size1, rnn_hidden_size2,\n",
    "        mlp_embed_input_size, mlp_other_input_size, mlp_embed_vocab, \n",
    "        mlp_embed_size, mlp_hidden_dim1, mlp_hidden_dim2, mlp_out_size):\n",
    "        super().__init__()\n",
    "\n",
    "        self.embedding_layer = nn.Embedding(rnn_embed_vocab, rnn_embed_size)\n",
    "        self.rnn1 = nn.RNN(\n",
    "            input_size=rnn_embed_size, \n",
    "            hidden_size=rnn_hidden_size1,\n",
    "            nonlinearity='tanh',\n",
    "            )\n",
    "        self.rnn2 = nn.RNN(\n",
    "            input_size=rnn_embed_size, \n",
    "            hidden_size=rnn_hidden_size2,\n",
    "            nonlinearity='tanh',\n",
    "            )\n",
    "        self.mlp = MLP(\n",
    "            mlp_embed_input_size, \n",
    "            mlp_other_input_size + rnn_hidden_size1 + rnn_hidden_size2, \n",
    "            mlp_embed_vocab, \n",
    "            mlp_embed_size, \n",
    "            mlp_hidden_dim1, \n",
    "            mlp_hidden_dim2, \n",
    "            mlp_out_size)\n",
    "\n",
    "    def forward(self, x):\n",
    "        x_mlp = x[0]\n",
    "        x_mlp_embed = x[1]\n",
    "        x_rnn1 = x[2] # assuming list of variable sized tensors\n",
    "        x_rnn2 = x[3] # assuming list of variable sized tensors\n",
    "\n",
    "        # Get lengths\n",
    "        x_rnn1_lens = [len(x) for x in x_rnn1]\n",
    "        x_rnn2_lens = [len(x) for x in x_rnn2]\n",
    "\n",
    "        # Pad variable length tensors with new word index at 5000\n",
    "        x_rnn1_pad = pad_sequence(x_rnn1, batch_first=True, padding_value=NUM_WORDS-1)\n",
    "        x_rnn2_pad = pad_sequence(x_rnn2, batch_first=True, padding_value=NUM_WORDS-1)\n",
    "\n",
    "        # Embed inputs one by one in the list\n",
    "        x_rnn1_pad = self.embedding_layer(x_rnn1_pad)\n",
    "        x_rnn2_pad = self.embedding_layer(x_rnn2_pad)\n",
    "        \n",
    "        # Convert the list of tensors into a packed sequence\n",
    "        x_rnn1_pack = pack_padded_sequence(x_rnn1_pad, x_rnn1_lens, batch_first=True, enforce_sorted=False)\n",
    "        x_rnn2_pack = pack_padded_sequence(x_rnn2_pad, x_rnn2_lens, batch_first=True, enforce_sorted=False)\n",
    "        \n",
    "        # Run the model\n",
    "        rnn_out1 = self.rnn1(x_rnn1_pack)\n",
    "        rnn_out2 = self.rnn2(x_rnn2_pack)\n",
    "\n",
    "        # Unpack the output seqeunce\n",
    "        out_padded1, out_length1 = pad_packed_sequence(rnn_out1[0], batch_first=True)\n",
    "        out_padded2, out_length2 = pad_packed_sequence(rnn_out2[0], batch_first=True)\n",
    "\n",
    "        # Get orignal output by removing the padding\n",
    "        out_padded1 = out_padded1[np.arange(len(out_length1)), out_length1-1, :]\n",
    "        out_padded2 = out_padded2[np.arange(len(out_length2)), out_length2-1, :]\n",
    "\n",
    "        # Feed RNN output to MLP and get mlp output\n",
    "        mlp_out = self.mlp((torch.cat((out_padded1, out_padded2, x_mlp), 1), x_mlp_embed))\n",
    "        \n",
    "        return mlp_out"
   ]
  },
  {
   "cell_type": "markdown",
   "id": "0bf6a112",
   "metadata": {},
   "source": [
    "### 2.2.2 MLP with attention based GRU"
   ]
  },
  {
   "cell_type": "code",
   "execution_count": 102,
   "id": "42abed0c",
   "metadata": {},
   "outputs": [],
   "source": [
    "# class AttentionalGRUClassifier(nn.Module):\n",
    "#     def __init__(self, input_size, hidden_size, output_size):\n",
    "#         super(AttentionalGRUClassifier, self).__init__()\n",
    "#         self.gru = nn.GRU(input_size, hidden_size)\n",
    "#         self.h2o = nn.Linear(hidden_size, output_size) \n",
    "#         self.att = nn.Linear(hidden_size, 1) \n",
    "        \n",
    "#     def forward(self, input_sequence):\n",
    "#         # process the input sequence into a sequence of RNN hidden states\n",
    "#         states, _ = self.gru(input_sequence)\n",
    "#         # compute attention scores to each RNN hidden state (we use a linear function)\n",
    "#         att_scores = self.att(states)\n",
    "#         # rescale the attention scores using a softmax, so they sum to one\n",
    "#         alpha = F.softmax(att_scores, dim=0)\n",
    "#         # compute the \"c\" vector as a weighted combination of the RNN hidden states\n",
    "#         c = torch.sum(torch.mul(states, alpha), dim=0)\n",
    "#         # now couple up the c state to the output, and compute log-softmax\n",
    "#         output = self.h2o(c.view(1, -1)) \n",
    "#         output = F.log_softmax(output, dim=1)\n",
    "#         return output, alpha"
   ]
  },
  {
   "cell_type": "markdown",
   "id": "4269712c",
   "metadata": {},
   "source": [
    "GRU Traning code"
   ]
  },
  {
   "cell_type": "code",
   "execution_count": 103,
   "id": "9c2d9441",
   "metadata": {},
   "outputs": [],
   "source": [
    "\n",
    "\n",
    "# model = AttentionalGRUClassifier(n_letters, n_hidden, n_categories)\n",
    "# optimizer = optim.SGD(model.parameters(), lr=learning_rate)\n",
    "# criterion = nn.NLLLoss()\n",
    "\n",
    "# start = time.time()\n",
    "# all_losses_att = []\n",
    "# current_loss = 0\n",
    "\n",
    "# for iter in range(1, n_iters + 1):\n",
    "#     category, line, category_tensor, line_tensor = randomTrainingExample(noise=noise_level)\n",
    "\n",
    "#     model.zero_grad()\n",
    "#     output, _ = model.forward(line_tensor)\n",
    "#     output = torch.squeeze(output, 1) # remove redundant dimension\n",
    "#     loss = criterion(output, category_tensor)\n",
    "#     current_loss += loss.item()\n",
    "#     loss.backward()\n",
    "#     optimizer.step()\n",
    "\n",
    "#     # Print iter number, loss, name and guess\n",
    "#     if iter % print_every == 0:\n",
    "#         guess, guess_i = categoryFromOutput(output)\n",
    "#         correct = '✓' if guess == category else '✗ (%s)' % category\n",
    "#         print('%d %d%% (%s) %.4f %s / %s %s' % (iter, iter / n_iters * 100, timeSince(start), loss, line, guess, correct))\n",
    "\n",
    "#     # Add current loss avg to list of losses\n",
    "#     if iter % plot_every == 0:\n",
    "#         all_losses_att.append(current_loss / plot_every)\n",
    "#         current_loss = 0"
   ]
  },
  {
   "cell_type": "markdown",
   "id": "1d722179",
   "metadata": {},
   "source": [
    "# 3. Training and Testing"
   ]
  },
  {
   "cell_type": "code",
   "execution_count": 104,
   "id": "7703ce63",
   "metadata": {},
   "outputs": [],
   "source": [
    "import time\n",
    "\n",
    "def test(model, criterion, test_loader):\n",
    "    test_loss = 0.\n",
    "    test_preds, test_labels = list(), list()\n",
    "    for i, data in enumerate(test_loader):\n",
    "        x_year, x_venue, x_abstract, x_title, y = data\n",
    "\n",
    "        with torch.no_grad():\n",
    "            logits = model((x_year, x_venue, x_abstract, x_title))\n",
    "            predictions = torch.round(torch.sigmoid(logits))\n",
    "            test_loss += criterion(input=logits, target=y.float()).item()\n",
    "            test_preds.append(predictions)\n",
    "            test_labels.append(y)\n",
    "\n",
    "    test_preds = torch.cat(test_preds)\n",
    "    test_labels = torch.cat(test_labels)\n",
    "\n",
    "    test_mean_accuracy = torch.mean((torch.sum(torch.eq(predictions, y).float(), 1) == 100).float()).item()\n",
    "    test_mean_loss = test_loss/len(test_loader)\n",
    "\n",
    "    print('[TEST] Mean loss {:.4f} | Accuracy {:.4f}'.format(test_mean_loss, test_mean_accuracy))\n",
    "\n",
    "    return test_mean_loss, test_mean_accuracy\n",
    "\n",
    "def train(model, train_loader, val_loader, optimizer, n_epochs=10, model_name='model'):\n",
    "    \"\"\"\n",
    "    Generic training loop for supervised multiclass learning\n",
    "    \"\"\"\n",
    "    LOG_INTERVAL = 250\n",
    "    running_loss, running_accuracy, running_test_accuracy = list(), list(), list()\n",
    "    start_time = time.time()\n",
    "    criterion = nn.BCEWithLogitsLoss()\n",
    "    current_best_acc = np.Inf\n",
    "    current_best_model = None\n",
    "\n",
    "    for epoch in range(n_epochs):  # Loop over training dataset `n_epochs` times\n",
    "\n",
    "        epoch_loss = 0.\n",
    "\n",
    "        for i, data in enumerate(train_loader):  # Loop over elements in training set\n",
    "\n",
    "            x_year, x_venue, x_abstract, x_title, y = data\n",
    "\n",
    "            logits = model((x_year, x_venue, x_abstract, x_title))\n",
    "\n",
    "            predictions = torch.round(torch.sigmoid(logits))\n",
    "            train_acc = torch.mean((torch.sum(torch.eq(predictions, y).float(), 1) == 100).float()).item()\n",
    "\n",
    "            loss = criterion(input=logits, target=y.float())\n",
    "\n",
    "            loss.backward()               # Backward pass (compute parameter gradients)\n",
    "            optimizer.step()              # Update weight parameter using SGD\n",
    "            optimizer.zero_grad()         # Reset gradients to zero for next iteration\n",
    "\n",
    "            # ============================================================================\n",
    "            # You can safely ignore the boilerplate code below - just reports metrics over\n",
    "            # training and test sets\n",
    "\n",
    "            running_loss.append(loss.item())\n",
    "            running_accuracy.append(train_acc)\n",
    "\n",
    "            epoch_loss += loss.item()\n",
    "\n",
    "            if i % LOG_INTERVAL == 0:  # Log training stats\n",
    "                deltaT = time.time() - start_time\n",
    "                mean_loss = epoch_loss / (i+1)\n",
    "                print('[TRAIN] Epoch {} [{}/{}]| Mean loss {:.4f} | Current Mean train accuracy {:.5f} | Current data accuracy {:.5f} | Time {:.2f} s'.format(epoch, \n",
    "                    i, len(train_loader), mean_loss, sum(running_accuracy)/len(running_accuracy), train_acc, deltaT))\n",
    "\n",
    "        print('Epoch complete! Mean loss: {:.4f}'.format(epoch_loss/len(train_loader)))\n",
    "\n",
    "        test_loss, test_acc = test(model, criterion, val_loader)\n",
    "        if test_acc < current_best_acc:\n",
    "            current_best_acc = test_acc\n",
    "            current_best_model = model.state_dict()\n",
    "\n",
    "    # Save best model\n",
    "    torch.save(current_best_model, f\"./model/{model_name}.pth\")\n",
    "    print(f\"Best model saved with acc {current_best_acc} at ./model/{model_name}.pth\")\n",
    "        \n",
    "    return running_loss, running_accuracy"
   ]
  },
  {
   "cell_type": "markdown",
   "id": "d352c940",
   "metadata": {},
   "source": [
    "#### Train MLP model"
   ]
  },
  {
   "cell_type": "code",
   "execution_count": 88,
   "id": "b3f3f637",
   "metadata": {},
   "outputs": [
    {
     "name": "stdout",
     "output_type": "stream",
     "text": [
      "[TEST] Mean loss 0.6937 | Accuracy 0.0000\n"
     ]
    },
    {
     "data": {
      "text/plain": [
       "0.6937353945960684"
      ]
     },
     "execution_count": 88,
     "metadata": {},
     "output_type": "execute_result"
    }
   ],
   "source": [
    "mlp_model = MLP(\n",
    "    embed_input_size=1, \n",
    "    other_input_size=1, \n",
    "    embed_vocab=NUM_VENUES, \n",
    "    embed_size=NUM_VENUES//2, \n",
    "    hidden_size1=256, \n",
    "    hidden_size2=128, \n",
    "    out_size=100).to(DEVICE)\n",
    "    \n",
    "optimizer = torch.optim.SGD(mlp_model.parameters(), lr=1e-2, momentum=0.9)\n",
    "# optimizer = torch.optim.Adam(mlp_model.parameters(), lr=1e-2)\n",
    "mlp_loss, mlp_acc = train(mlp_model, train_dataloader, val_dataloader, \n",
    "    optimizer, n_epochs=1, model_name='mlp_temp')\n"
   ]
  },
  {
   "cell_type": "markdown",
   "id": "5d60da45",
   "metadata": {},
   "source": [
    "#### Load MLP model for testing"
   ]
  },
  {
   "cell_type": "code",
   "execution_count": 90,
   "id": "706e1a31",
   "metadata": {},
   "outputs": [
    {
     "name": "stdout",
     "output_type": "stream",
     "text": [
      "[TEST] Mean loss 0.0259 | Accuracy 0.6724\n"
     ]
    }
   ],
   "source": [
    "model_path = './model/mlp.pth'\n",
    "\n",
    "mlp_model = MLP(\n",
    "    embed_input_size=1, \n",
    "    other_input_size=1, \n",
    "    embed_vocab=NUM_VENUES, \n",
    "    embed_size=NUM_VENUES//2, \n",
    "    hidden_size1=256, \n",
    "    hidden_size2=128, \n",
    "    out_size=100).to(DEVICE)\n",
    "mlp_model.load_state_dict(torch.load(model_path))\n",
    "\n",
    "optimizer = torch.optim.SGD(mlp_model.parameters(), lr=1e-2, momentum=0.9)\n",
    "\n",
    "criterion = nn.BCEWithLogitsLoss()\n",
    "a = test(mlp_model, criterion, val_dataloader)"
   ]
  },
  {
   "cell_type": "markdown",
   "id": "2b78ef33",
   "metadata": {},
   "source": [
    "#### Train MLP model with RNN"
   ]
  },
  {
   "cell_type": "code",
   "execution_count": 105,
   "id": "800df78d",
   "metadata": {},
   "outputs": [
    {
     "name": "stdout",
     "output_type": "stream",
     "text": [
      "[TRAIN] Epoch 0 [0/283]| Mean loss 0.6952 | Current Mean train accuracy 0.00000 | Current data accuracy 0.00000 | Time 2.18 s\n"
     ]
    }
   ],
   "source": [
    "mlp_model = RNN_MLP(\n",
    "    rnn_embed_vocab=NUM_WORDS,\n",
    "    rnn_embed_size=NUM_WORDS//2,\n",
    "    rnn_hidden_size1=256,\n",
    "    rnn_hidden_size2=32,\n",
    "\n",
    "    mlp_embed_input_size=1, \n",
    "    mlp_other_input_size=1, \n",
    "    mlp_embed_vocab=NUM_VENUES, \n",
    "    mlp_embed_size=NUM_VENUES//2, \n",
    "    mlp_hidden_dim1=256, \n",
    "    mlp_hidden_dim2=128, \n",
    "    mlp_out_size=100).to(DEVICE)\n",
    "    \n",
    "optimizer = torch.optim.SGD(mlp_model.parameters(), lr=1e-2, momentum=0.9)\n",
    "# optimizer = torch.optim.Adam(mlp_model.parameters(), lr=1e-2)\n",
    "mlp_loss, mlp_acc = train(mlp_model, train_dataloader, val_dataloader, optimizer, n_epochs=20)"
   ]
  },
  {
   "cell_type": "markdown",
   "id": "ed82e50d",
   "metadata": {},
   "source": [
    "#### Load MLP model with RNN for testing"
   ]
  },
  {
   "cell_type": "code",
   "execution_count": null,
   "id": "82675c99",
   "metadata": {},
   "outputs": [],
   "source": [
    "# ..."
   ]
  },
  {
   "cell_type": "markdown",
   "id": "662b4da9",
   "metadata": {},
   "source": [
    "#### Train MLP model with attention based GRU"
   ]
  },
  {
   "cell_type": "code",
   "execution_count": null,
   "id": "945ab72f",
   "metadata": {},
   "outputs": [],
   "source": [
    "# ..."
   ]
  },
  {
   "cell_type": "markdown",
   "id": "73a96b44",
   "metadata": {},
   "source": [
    "#### Load MLP model with attention based GRU for testing"
   ]
  },
  {
   "cell_type": "code",
   "execution_count": null,
   "id": "c8c2f56c",
   "metadata": {},
   "outputs": [],
   "source": [
    "# ..."
   ]
  },
  {
   "cell_type": "markdown",
   "id": "28b1f327",
   "metadata": {},
   "source": [
    "#### Plot training graphs"
   ]
  },
  {
   "cell_type": "code",
   "execution_count": 57,
   "id": "dffcb323",
   "metadata": {},
   "outputs": [
    {
     "data": {
      "text/plain": [
       "Text(0, 0.5, 'Cross-entropy Loss (Train)')"
      ]
     },
     "execution_count": 57,
     "metadata": {},
     "output_type": "execute_result"
    },
    {
     "data": {
      "image/png": "[encoded data removed]",
      "text/plain": [
       "<Figure size 432x288 with 1 Axes>"
      ]
     },
     "metadata": {
      "needs_background": "light"
     },
     "output_type": "display_data"
    }
   ],
   "source": [
    "from scipy.signal import savgol_filter  # Smooth spiky curves\n",
    "import matplotlib.pyplot as plt\n",
    "running_loss_smoothed = savgol_filter(mlp_loss, 21, 3)\n",
    "running_acc_smoothed = savgol_filter(mlp_acc, 21, 3)\n",
    "\n",
    "plt.plot(running_loss_smoothed)\n",
    "plt.xlabel('Iterations')\n",
    "plt.ylabel('Cross-entropy Loss (Train)')"
   ]
  },
  {
   "cell_type": "code",
   "execution_count": 58,
   "id": "72119af8",
   "metadata": {},
   "outputs": [
    {
     "data": {
      "text/plain": [
       "(0.2, 1.0)"
      ]
     },
     "execution_count": 58,
     "metadata": {},
     "output_type": "execute_result"
    },
    {
     "data": {
      "image/png": "[encoded data removed]",
      "text/plain": [
       "<Figure size 432x288 with 1 Axes>"
      ]
     },
     "metadata": {
      "needs_background": "light"
     },
     "output_type": "display_data"
    }
   ],
   "source": [
    "plt.plot(running_acc_smoothed)\n",
    "plt.xlabel('Iterations')\n",
    "plt.ylabel('Accuracy (Train)')\n",
    "plt.ylim(0.2,1.)"
   ]
  }
 ],
 "metadata": {
  "kernelspec": {
   "display_name": "Python 3.8.13 ('COMP90051')",
   "language": "python",
   "name": "python3"
  },
  "language_info": {
   "codemirror_mode": {
    "name": "ipython",
    "version": 3
   },
   "file_extension": ".py",
   "mimetype": "text/x-python",
   "name": "python",
   "nbconvert_exporter": "python",
   "pygments_lexer": "ipython3",
   "version": "3.8.13"
  },
  "vscode": {
   "interpreter": {
    "hash": "168cf1919776406216c8a7534c836854148f23669d6a513e43ffaae940618bba"
   }
  }
 },
 "nbformat": 4,
 "nbformat_minor": 5
}
