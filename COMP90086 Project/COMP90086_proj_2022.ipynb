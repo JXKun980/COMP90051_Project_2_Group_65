{
 "cells": [
  {
   "cell_type": "markdown",
   "metadata": {},
   "source": [
    "### The University of Melbourne, School of Computing and Information Systems\n",
    "# COMP90086 Computer Vision, 2022 Semester 2\n",
    "\n",
    "## Project"
   ]
  },
  {
   "cell_type": "markdown",
   "metadata": {},
   "source": [
    "**Student Name:**    `Junxian Wang`\n",
    "\n",
    "**Student ID:**     `1326418`"
   ]
  },
  {
   "cell_type": "code",
   "execution_count": 16,
   "metadata": {},
   "outputs": [],
   "source": [
    "import os\n",
    "from glob import glob\n",
    "\n",
    "import cv2\n",
    "\n",
    "import pandas as pd"
   ]
  },
  {
   "cell_type": "code",
   "execution_count": 22,
   "metadata": {},
   "outputs": [],
   "source": [
    "img_root = './Dataset/'\n",
    "imgs_path_l = glob(os.path.join(img_root, '*-left.jpg'))\n",
    "imgs_path_r = glob(os.path.join(img_root, '*-right.jpg'))\n",
    "imgs_path_d = glob(os.path.join(img_root, '*-disparity.png'))\n",
    "if not (len(imgs_path_l) == len(imgs_path_r) == len(imgs_path_d)):\n",
    "    raise Exception('Path do not contain the same number of left, right and disparity images.')\n",
    "\n",
    "imgs = {'left':[], 'right':[], 'disparity':[]}\n",
    "for i in range(len(imgs_path_l)):\n",
    "    imgs['left'].append(cv2.imread(imgs_path_l[i], cv2.IMREAD_COLOR))\n",
    "    imgs['right'].append(cv2.imread(imgs_path_r[i], cv2.IMREAD_COLOR))\n",
    "    imgs['disparity'].append(cv2.imread(imgs_path_d[i], cv2.IMREAD_COLOR))\n",
    "\n",
    "imgs_df = pd.DataFrame(imgs)"
   ]
  },
  {
   "cell_type": "code",
   "execution_count": null,
   "metadata": {},
   "outputs": [],
   "source": [
    "win_width = 20\n",
    "win_height = 20\n"
   ]
  }
 ],
 "metadata": {
  "kernelspec": {
   "display_name": "Python 3.7.13 ('COMP90086')",
   "language": "python",
   "name": "python3"
  },
  "language_info": {
   "codemirror_mode": {
    "name": "ipython",
    "version": 3
   },
   "file_extension": ".py",
   "mimetype": "text/x-python",
   "name": "python",
   "nbconvert_exporter": "python",
   "pygments_lexer": "ipython3",
   "version": "3.7.13"
  },
  "vscode": {
   "interpreter": {
    "hash": "a690acfdcb03f0ba38e5873c41d83d70ef2eedb79fbd9fb50341ba195c74ed5d"
   }
  }
 },
 "nbformat": 4,
 "nbformat_minor": 4
}
