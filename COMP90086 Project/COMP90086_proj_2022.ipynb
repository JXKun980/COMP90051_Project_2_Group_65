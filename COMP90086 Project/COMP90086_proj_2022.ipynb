{
 "cells": [
  {
   "cell_type": "markdown",
   "metadata": {},
   "source": [
    "### The University of Melbourne, School of Computing and Information Systems\n",
    "# COMP90086 Computer Vision, 2022 Semester 2\n",
    "\n",
    "## Project"
   ]
  },
  {
   "cell_type": "markdown",
   "metadata": {},
   "source": [
    "**Group Number:** `191`\n",
    "\n",
    "**Student Name:**    `Junxian Wang, Xiaoru Yuan`\n",
    "\n",
    "**Student ID:**     `1326418, 1314203`"
   ]
  },
  {
   "cell_type": "code",
   "execution_count": 2,
   "metadata": {},
   "outputs": [],
   "source": [
    "import os\n",
    "from glob import glob\n",
    "import numpy as np\n",
    "import cv2\n",
    "import pandas as pd\n",
    "from matplotlib import pyplot as plt\n",
    "import time\n",
    "import math"
   ]
  },
  {
   "cell_type": "markdown",
   "metadata": {},
   "source": [
    "### 1. Set up"
   ]
  },
  {
   "cell_type": "code",
   "execution_count": 3,
   "metadata": {},
   "outputs": [],
   "source": [
    "img_root = './Dataset/'\n",
    "imgs_path_l = glob(os.path.join(img_root, '*-left.jpg'))\n",
    "imgs_path_r = glob(os.path.join(img_root, '*-right.jpg'))\n",
    "imgs_path_d = glob(os.path.join(img_root, '*-disparity.png'))\n",
    "if not (len(imgs_path_l) == len(imgs_path_r) == len(imgs_path_d)):\n",
    "    raise Exception('Path do not contain the same number of left, right and disparity images.')\n",
    "\n",
    "imgs = {'left':[], 'right':[], 'disparity':[]}\n",
    "for i in range(len(imgs_path_l)):\n",
    "    imgs['left'].append(cv2.imread(imgs_path_l[i], cv2.IMREAD_GRAYSCALE))\n",
    "    imgs['right'].append(cv2.imread(imgs_path_r[i], cv2.IMREAD_GRAYSCALE))\n",
    "    imgs['disparity'].append(cv2.imread(imgs_path_d[i], cv2.IMREAD_GRAYSCALE))\n",
    "\n",
    "imgs_df = pd.DataFrame(imgs)"
   ]
  },
  {
   "cell_type": "markdown",
   "metadata": {},
   "source": [
    "### 2. Basic Stereo Matching"
   ]
  },
  {
   "cell_type": "code",
   "execution_count": 6,
   "metadata": {},
   "outputs": [
    {
     "name": "stdout",
     "output_type": "stream",
     "text": [
      "curr h: 10\n",
      "curr h: 11\n",
      "curr h: 12\n",
      "curr h: 13\n",
      "curr h: 14\n",
      "curr h: 15\n",
      "curr h: 16\n",
      "curr h: 17\n",
      "curr h: 18\n",
      "curr h: 19\n",
      "curr h: 20\n",
      "curr h: 21\n",
      "curr h: 22\n",
      "curr h: 23\n",
      "curr h: 24\n",
      "curr h: 25\n",
      "curr h: 26\n",
      "curr h: 27\n",
      "curr h: 28\n",
      "curr h: 29\n",
      "curr h: 30\n",
      "curr h: 31\n",
      "curr h: 32\n",
      "curr h: 33\n",
      "curr h: 34\n",
      "curr h: 35\n",
      "curr h: 36\n",
      "curr h: 37\n",
      "curr h: 38\n",
      "curr h: 39\n",
      "curr h: 40\n",
      "curr h: 41\n",
      "curr h: 42\n",
      "curr h: 43\n",
      "curr h: 44\n",
      "curr h: 45\n",
      "curr h: 46\n",
      "curr h: 47\n",
      "curr h: 48\n",
      "curr h: 49\n",
      "curr h: 50\n",
      "curr h: 51\n",
      "curr h: 52\n",
      "curr h: 53\n"
     ]
    },
    {
     "ename": "KeyboardInterrupt",
     "evalue": "",
     "output_type": "error",
     "traceback": [
      "\u001b[1;31m---------------------------------------------------------------------------\u001b[0m",
      "\u001b[1;31mKeyboardInterrupt\u001b[0m                         Traceback (most recent call last)",
      "\u001b[1;32m~\\AppData\\Local\\Temp\\ipykernel_11292\\646847062.py\u001b[0m in \u001b[0;36m<module>\u001b[1;34m\u001b[0m\n\u001b[0;32m     22\u001b[0m             \u001b[1;31m# print(boxR.shape)\u001b[0m\u001b[1;33m\u001b[0m\u001b[1;33m\u001b[0m\u001b[1;33m\u001b[0m\u001b[0m\n\u001b[0;32m     23\u001b[0m \u001b[1;33m\u001b[0m\u001b[0m\n\u001b[1;32m---> 24\u001b[1;33m             \u001b[0mnorm_corr\u001b[0m \u001b[1;33m=\u001b[0m \u001b[0mnp\u001b[0m\u001b[1;33m.\u001b[0m\u001b[0msum\u001b[0m\u001b[1;33m(\u001b[0m\u001b[0mboxL\u001b[0m \u001b[1;33m*\u001b[0m \u001b[0mboxR\u001b[0m\u001b[1;33m)\u001b[0m\u001b[1;33m/\u001b[0m\u001b[1;33m(\u001b[0m\u001b[0mboxL_norm\u001b[0m \u001b[1;33m*\u001b[0m \u001b[0mnp\u001b[0m\u001b[1;33m.\u001b[0m\u001b[0mlinalg\u001b[0m\u001b[1;33m.\u001b[0m\u001b[0mnorm\u001b[0m\u001b[1;33m(\u001b[0m\u001b[0mboxR\u001b[0m\u001b[1;33m)\u001b[0m\u001b[1;33m)\u001b[0m\u001b[1;33m\u001b[0m\u001b[1;33m\u001b[0m\u001b[0m\n\u001b[0m\u001b[0;32m     25\u001b[0m             \u001b[1;32mif\u001b[0m \u001b[0mbest_norm_corr\u001b[0m \u001b[1;32mis\u001b[0m \u001b[1;32mNone\u001b[0m\u001b[1;33m:\u001b[0m\u001b[1;33m\u001b[0m\u001b[1;33m\u001b[0m\u001b[0m\n\u001b[0;32m     26\u001b[0m                 \u001b[0mbest_norm_corr\u001b[0m \u001b[1;33m=\u001b[0m \u001b[0mnorm_corr\u001b[0m\u001b[1;33m\u001b[0m\u001b[1;33m\u001b[0m\u001b[0m\n",
      "\u001b[1;32m<__array_function__ internals>\u001b[0m in \u001b[0;36mnorm\u001b[1;34m(*args, **kwargs)\u001b[0m\n",
      "\u001b[1;32mc:\\Users\\Michelle\\anaconda3\\envs\\COMP90086\\lib\\site-packages\\numpy\\linalg\\linalg.py\u001b[0m in \u001b[0;36mnorm\u001b[1;34m(x, ord, axis, keepdims)\u001b[0m\n\u001b[0;32m   2528\u001b[0m                 \u001b[0msqnorm\u001b[0m \u001b[1;33m=\u001b[0m \u001b[0mdot\u001b[0m\u001b[1;33m(\u001b[0m\u001b[0mx\u001b[0m\u001b[1;33m.\u001b[0m\u001b[0mreal\u001b[0m\u001b[1;33m,\u001b[0m \u001b[0mx\u001b[0m\u001b[1;33m.\u001b[0m\u001b[0mreal\u001b[0m\u001b[1;33m)\u001b[0m \u001b[1;33m+\u001b[0m \u001b[0mdot\u001b[0m\u001b[1;33m(\u001b[0m\u001b[0mx\u001b[0m\u001b[1;33m.\u001b[0m\u001b[0mimag\u001b[0m\u001b[1;33m,\u001b[0m \u001b[0mx\u001b[0m\u001b[1;33m.\u001b[0m\u001b[0mimag\u001b[0m\u001b[1;33m)\u001b[0m\u001b[1;33m\u001b[0m\u001b[1;33m\u001b[0m\u001b[0m\n\u001b[0;32m   2529\u001b[0m             \u001b[1;32melse\u001b[0m\u001b[1;33m:\u001b[0m\u001b[1;33m\u001b[0m\u001b[1;33m\u001b[0m\u001b[0m\n\u001b[1;32m-> 2530\u001b[1;33m                 \u001b[0msqnorm\u001b[0m \u001b[1;33m=\u001b[0m \u001b[0mdot\u001b[0m\u001b[1;33m(\u001b[0m\u001b[0mx\u001b[0m\u001b[1;33m,\u001b[0m \u001b[0mx\u001b[0m\u001b[1;33m)\u001b[0m\u001b[1;33m\u001b[0m\u001b[1;33m\u001b[0m\u001b[0m\n\u001b[0m\u001b[0;32m   2531\u001b[0m             \u001b[0mret\u001b[0m \u001b[1;33m=\u001b[0m \u001b[0msqrt\u001b[0m\u001b[1;33m(\u001b[0m\u001b[0msqnorm\u001b[0m\u001b[1;33m)\u001b[0m\u001b[1;33m\u001b[0m\u001b[1;33m\u001b[0m\u001b[0m\n\u001b[0;32m   2532\u001b[0m             \u001b[1;32mif\u001b[0m \u001b[0mkeepdims\u001b[0m\u001b[1;33m:\u001b[0m\u001b[1;33m\u001b[0m\u001b[1;33m\u001b[0m\u001b[0m\n",
      "\u001b[1;32m<__array_function__ internals>\u001b[0m in \u001b[0;36mdot\u001b[1;34m(*args, **kwargs)\u001b[0m\n",
      "\u001b[1;31mKeyboardInterrupt\u001b[0m: "
     ]
    }
   ],
   "source": [
    "win_height = 21\n",
    "win_width = 21\n",
    "\n",
    "imgL = imgs_df['left'][0]\n",
    "imgR = imgs_df['right'][0]\n",
    "\n",
    "img_height = imgL.shape[0]\n",
    "img_width = imgL.shape[1]\n",
    "\n",
    "disparityBM = np.zeros((img_height, img_width))\n",
    "\n",
    "for h in range(win_height//2, img_height-win_height//2):  # for each scanline\n",
    "    print(\"curr h:\", h)\n",
    "    for w in range(win_width//2, img_width-win_width//2):    # for each pixel on scanline\n",
    "        boxL = imgL[h-win_height//2:h+win_height//2, w-win_width//2:w+win_width//2]\n",
    "        boxL_norm = np.linalg.norm(boxL)\n",
    "        best_norm_corr = None\n",
    "        for offset in range(0, w-win_width//2+1):\n",
    "            boxR = imgR[h-win_height//2:h+win_height//2, w-offset-win_width//2:w-offset+win_width//2]\n",
    "            # print(h,w,offset)\n",
    "            # print(boxL.shape)\n",
    "            # print(boxR.shape)\n",
    "\n",
    "            norm_corr = np.sum(boxL * boxR)/(boxL_norm * np.linalg.norm(boxR))\n",
    "            if best_norm_corr is None:\n",
    "                best_norm_corr = norm_corr\n",
    "            elif best_norm_corr < norm_corr:\n",
    "                best_norm_corr = norm_corr\n",
    "        disparityBM[h, w] = best_norm_corr\n",
    "print(disparityBM)"
   ]
  },
  {
   "cell_type": "code",
   "execution_count": 62,
   "metadata": {},
   "outputs": [],
   "source": [
    "# # define parameters\n",
    "# num_disp = 64 # try to tune the parameters to get better&smooth result\n",
    "# block_size = 5\n",
    "# disparityBM_ls = []\n",
    "\n",
    "# elapsed_time = np.zeros(len(imgs_path_l))\n",
    "\n",
    "# for i in range(len(imgs_path_l)):\n",
    "#     start = time.time()\n",
    "\n",
    "#     imgL = imgs_df['left'][i]\n",
    "#     imgR = imgs_df['right'][i]\n",
    "#     stereoBM = cv2.StereoBM_create(numDisparities=num_disp, blockSize=block_size)\n",
    "\n",
    "#     # Compute the disparity image\n",
    "#     disparityBM = stereoBM.compute(imgL,imgR)\n",
    "\n",
    "#     # Scale the pixel values to between 0-255 (Or you can normalized to [0,1])\n",
    "#     min = disparityBM.min()\n",
    "#     max = disparityBM.max()\n",
    "#     disparityBM = ((disparityBM - min) / (max - min)*255).astype(np.uint8)\n",
    "#     disparityBM_ls.append(disparityBM)\n",
    "\n",
    "#     # Compute runtime (in seconds per image)\n",
    "#     end = time.time()\n",
    "#     elapsed_time = end-start\n",
    "\n"
   ]
  },
  {
   "cell_type": "markdown",
   "metadata": {},
   "source": [
    "### 3. Compare with ground truth"
   ]
  },
  {
   "cell_type": "code",
   "execution_count": 55,
   "metadata": {},
   "outputs": [],
   "source": [
    "rms_ls = np.zeros(len(imgs_path_l))\n",
    "fractions_4 = np.zeros(len(imgs_path_l))\n",
    "fractions_2 = np.zeros(len(imgs_path_l))\n",
    "fractions_1 = np.zeros(len(imgs_path_l))\n",
    "fractions_05 = np.zeros(len(imgs_path_l))\n",
    "fractions_025 = np.zeros(len(imgs_path_l))\n",
    "\n",
    "for i in range(len(imgs_path_l)):\n",
    "    # Load maps\n",
    "    disparityBM = disparityBM_ls[i]\n",
    "    ground_truth = imgs['disparity'][i]\n",
    "\n",
    "    # Compute rms\n",
    "    ms = np.square(np.subtract(disparityBM, ground_truth))\n",
    "    rms = math.sqrt(ms/2)\n",
    "    rms_ls[i] = rms\n",
    "\n",
    "    # Compute\n",
    "    fractions_4[i] = np.count_nonzero(rms < 4)\n",
    "    fractions_2[i] = np.count_nonzero(rms < 2)\n",
    "    fractions_1[i] = np.count_nonzero(rms < 1)\n",
    "    fractions_05[i] = np.count_nonzero(rms < 0.5)\n",
    "    fractions_025[i] = np.count_nonzero(rms < 0.25)"
   ]
  }
 ],
 "metadata": {
  "kernelspec": {
   "display_name": "Python 3.7.13 ('COMP90086')",
   "language": "python",
   "name": "python3"
  },
  "language_info": {
   "codemirror_mode": {
    "name": "ipython",
    "version": 3
   },
   "file_extension": ".py",
   "mimetype": "text/x-python",
   "name": "python",
   "nbconvert_exporter": "python",
   "pygments_lexer": "ipython3",
   "version": "3.7.13"
  },
  "vscode": {
   "interpreter": {
    "hash": "15e4b6e9a5634b1dc66a460b0dd818d6fa99e4a0c1476e6572dd2597cbe73192"
   }
  }
 },
 "nbformat": 4,
 "nbformat_minor": 4
}
